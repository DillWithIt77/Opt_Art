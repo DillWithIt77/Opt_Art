{
 "cells": [
  {
   "cell_type": "markdown",
   "id": "61a02c3b",
   "metadata": {},
   "source": [
    "# Opt Art Chapter 2: Truchet Tiles"
   ]
  },
  {
   "cell_type": "markdown",
   "id": "122238dc",
   "metadata": {},
   "source": [
    "### Libraries to import"
   ]
  },
  {
   "cell_type": "code",
   "execution_count": 1,
   "id": "32def1ac",
   "metadata": {},
   "outputs": [],
   "source": [
    "import sys\n",
    "import numpy as np\n",
    "import PIL \n",
    "from PIL import Image, ImageDraw, ImageFilter, ImageStat\n",
    "import math\n",
    "from math import gcd"
   ]
  },
  {
   "cell_type": "markdown",
   "id": "77a53215",
   "metadata": {},
   "source": [
    "### Background Functions (must run first)"
   ]
  },
  {
   "cell_type": "code",
   "execution_count": 2,
   "id": "03e6d990",
   "metadata": {},
   "outputs": [],
   "source": [
    "def chapter_2(file, scale, pattern,save,**kwargs):\n",
    "    pixel_size  = kwargs.get('pixel_size', 5)\n",
    "    ##import image and make it grayscale\n",
    "    import_im = Image.open(file, mode='r', formats=None).convert('L')\n",
    "    ##resize image based on scale\n",
    "    resized_im = import_im.resize((import_im._size[0]*scale,import_im._size[1]*scale))\n",
    "    ##create blank image of same size to put pattern on\n",
    "    blank_im = Image.new('L', (resized_im._size[0],resized_im._size[1]), 128)\n",
    "    ##creating drawing function for blank image\n",
    "    draw = ImageDraw.Draw(blank_im)\n",
    "    \n",
    "    ##deteremine how many pixels the tiles will cover when recreating the image\n",
    "    new_pixels, new_pixel_size = tile_pixels([],import_im,resized_im, pattern,pixel_size)\n",
    "    tile_image(new_pixels, new_pixel_size, resized_im, pattern, draw, blank_im,save)\n",
    "    "
   ]
  },
  {
   "cell_type": "code",
   "execution_count": 3,
   "id": "62bb8926",
   "metadata": {},
   "outputs": [],
   "source": [
    "def tile_pixels(t_list,orig_image,re_image, pattern,pixel_size):\n",
    "    ##determine how to partition your image for tiling\n",
    "    new_pixel_size = determine_pixel_size(orig_image._size[0], orig_image._size[1], scale,pixel_size)\n",
    "\n",
    "    ##get t values depending on pattern choice\n",
    "    if pattern == 'truchet':\n",
    "        for r in range(0,re_image._size[0], new_pixel_size):\n",
    "            for c in range(0,re_image._size[1],new_pixel_size):\n",
    "                square = re_image.crop((r,c,r+new_pixel_size,c+new_pixel_size))\n",
    "                stat = ImageStat.Stat(square)\n",
    "                average = (int(stat.mean[0])/255)\n",
    "            \n",
    "                t_list.append(get_t(average))\n",
    "                \n",
    "    elif pattern == 'star':    \n",
    "        for r in range(0,re_image._size[0], new_pixel_size):\n",
    "            for c in range(0,re_image._size[1],new_pixel_size):\n",
    "                square = re_image.crop((r,c,r+new_pixel_size,c+new_pixel_size))\n",
    "                stat = ImageStat.Stat(square)\n",
    "                average = (int(stat.mean[0])/255)\n",
    "            \n",
    "                t_list.append(get_t_star(average))\n",
    "    else:\n",
    "        raise Exception(\"Not a valid pattern input\")\n",
    "\n",
    "    ##convert t values to array which can be used for tiling purposes\n",
    "    t_vals_array = np.array(t_list)\n",
    "    t_vals_array.resize((int(re_image._size[0]/new_pixel_size),int(re_image._size[1]/new_pixel_size)))\n",
    "    return (t_vals_array, new_pixel_size)"
   ]
  },
  {
   "cell_type": "code",
   "execution_count": 4,
   "id": "29d8f60c",
   "metadata": {},
   "outputs": [],
   "source": [
    "def cf(num1,num2):\n",
    "    ###create list of factors for two numbers\n",
    "    n=[]\n",
    "    g=gcd(num1, num2)\n",
    "    for i in range(1, g+1): \n",
    "        if g%i==0: \n",
    "            n.append(i)\n",
    "    return n"
   ]
  },
  {
   "cell_type": "code",
   "execution_count": 5,
   "id": "bc058bbb",
   "metadata": {},
   "outputs": [],
   "source": [
    "def closest_num(myList,myNumber):\n",
    "    ###Find closest number in a list to the input number\n",
    "    return min(myList, key=lambda x:abs(x-myNumber))"
   ]
  },
  {
   "cell_type": "code",
   "execution_count": 6,
   "id": "586d2d08",
   "metadata": {},
   "outputs": [],
   "source": [
    "def determine_pixel_size(im_length, im_width, scale,pix_sz):\n",
    "    ##deteremine an n by n square of pixels to make into tile \n",
    "    ###check if pixel size input is too big for image\n",
    "    if (pix_sz > im_length) or (pix_sz > im_width):\n",
    "         raise Exception(\"Too big for pixel size\")\n",
    "    else:\n",
    "        ###create list of factors for length and width of image\n",
    "        fact_list = cf(im_width,im_length)\n",
    "        ###find factor in list that is closest to the input pixel size\n",
    "        pixel_size = closest_num(fact_list,pix_sz)\n",
    "        ###scale new pixel size properly for image\n",
    "        pixel_size = pixel_size*scale\n",
    "    \n",
    "    return pixel_size"
   ]
  },
  {
   "cell_type": "code",
   "execution_count": 7,
   "id": "25201619",
   "metadata": {},
   "outputs": [],
   "source": [
    "def tile_image(new_pix, pix_size, image, pattern, draw, new_im,save):\n",
    "    ##tile image based on truchet tile pattern\n",
    "    if pattern == 'truchet':\n",
    "        for r in range(0,image._size[0],pix_size):\n",
    "            for c in range(0,image._size[1],pix_size):\n",
    "                t = new_pix[int(r/pix_size)][int(c/pix_size)]\n",
    "                ###creates truchet tile based on {a,c},{b,d} pattern and t value for each tile\n",
    "                if (r%(2*pix_size)==0 and c%(2*pix_size)==0):\n",
    "                    square_a = ((0, 0), (0,1), (1, 1), (1,0))\n",
    "                    triangle_a = ((0, 0), (1,0), (1, 1),((1-t),t))\n",
    "                    square_a = tuple([tile_trans(x,right_shift = r, down_shift= c, scale = pix_size) for x in square_a])\n",
    "                    triangle_a = tuple([tile_trans(x,right_shift = r, down_shift= c,scale = pix_size) for x in triangle_a])\n",
    "                    draw.polygon(square_a,fill = 0)\n",
    "                    draw.polygon(triangle_a,fill= 255)\n",
    "            \n",
    "                elif(r%(2*pix_size)==pix_size and c%(2*pix_size)==0):\n",
    "                    square_b = ((0, 0), (0,1), (1, 1), (1,0))\n",
    "                    triangle_b = ((0, 1), (1,1), (1, 0),(1-t,1-t))\n",
    "                    square_b = tuple([tile_trans(x,right_shift = r, down_shift= c,scale = pix_size) for x in square_b])\n",
    "                    triangle_b = tuple([tile_trans(x,right_shift = r, down_shift= c,scale = pix_size) for x in triangle_b])\n",
    "                    draw.polygon(square_b,fill = 0)\n",
    "                    draw.polygon(triangle_b,fill= 255)\n",
    "            \n",
    "                elif(r%(2*pix_size)==0 and c%(2*pix_size)==pix_size):\n",
    "                    square_d = ((0, 0), (0,1), (1, 1), (1,0))\n",
    "                    triangle_d = ((0, 1), (0,0), (1, 0),(t,t))\n",
    "                    square_d = tuple([tile_trans(x,right_shift = r, down_shift= c,scale = pix_size) for x in square_d])\n",
    "                    triangle_d = tuple([tile_trans(x,right_shift = r, down_shift= c,scale = pix_size) for x in triangle_d])\n",
    "                    draw.polygon(square_d,fill = 0)\n",
    "                    draw.polygon(triangle_d,fill= 255)\n",
    "            \n",
    "                elif(r%(2*pix_size)==pix_size and c%(2*pix_size)==pix_size):\n",
    "                    square_c = ((0, 0), (0,1), (1, 1), (1,0))\n",
    "                    triangle_c = ((0, 0), (0,1), (1, 1),(t,(-t+1)))\n",
    "                    square_c = tuple([tile_trans(x,right_shift = r, down_shift= c,scale = pix_size) for x in square_c])\n",
    "                    triangle_c = tuple([tile_trans(x,right_shift = r, down_shift= c,scale = pix_size) for x in triangle_c])\n",
    "                    draw.polygon(square_c,fill = 0)\n",
    "                    draw.polygon(triangle_c,fill= 255)\n",
    "    ##tile image based on star pattern\n",
    "    elif pattern == 'star':\n",
    "        for r in range(0,image._size[0], pix_size):\n",
    "            for c in range(0,image._size[1],pix_size):\n",
    "                t = new_pix[int(r/pix_size)][int(c/pix_size)]\n",
    "                \n",
    "                ###creates star based on t values for that tile\n",
    "                square = ((0, 0), (0,1), (1, 1), (1,0))\n",
    "                triangle_top = ((0, 0), (1,0), (0.5, t))\n",
    "                triangle_right = ((1, 0), (1,1), (1-t, 0.5))\n",
    "                triangle_bottom = ((1, 1), (0,1), (0.5, 1-t))\n",
    "                triangle_left = ((0, 1), (0,0), (t, 0.5))\n",
    "                square = tuple([tile_trans(x,right_shift = r, down_shift= c,scale = pix_size) for x in square])\n",
    "                triangle_top = tuple([tile_trans(x,right_shift = r, down_shift= c,scale = pix_size) for x in triangle_top])\n",
    "                triangle_right = tuple([tile_trans(x,right_shift = r, down_shift= c,scale = pix_size) for x in triangle_right])\n",
    "                triangle_bottom = tuple([tile_trans(x,right_shift = r, down_shift= c,scale = pix_size) for x in triangle_bottom])\n",
    "                triangle_left = tuple([tile_trans(x,right_shift = r, down_shift= c,scale = pix_size) for x in triangle_left])\n",
    "\n",
    "                draw.polygon(square,fill = 255)\n",
    "                draw.polygon(triangle_top,fill= 0)\n",
    "                draw.polygon(triangle_right,fill= 0)\n",
    "                draw.polygon(triangle_bottom,fill= 0)\n",
    "                draw.polygon(triangle_left,fill= 0)\n",
    "    \n",
    "    else:\n",
    "        ###error if invalid pattern put into function\n",
    "        raise Exception(\"Not a valid pattern input\")\n",
    "    ##show image once tiling is completed\n",
    "    new_im.show()\n",
    "    \n",
    "    ##saves image as 'tiled_image.jpg'\n",
    "    if save == True:\n",
    "        image.save('tiled_image.jpg')"
   ]
  },
  {
   "cell_type": "code",
   "execution_count": 8,
   "id": "3b4fb5a8",
   "metadata": {},
   "outputs": [],
   "source": [
    "# 0.25+0.5t = Beta_ij\n",
    "#convert brightness value to t value for truchet tile\n",
    "def get_t(beta_ij):\n",
    "    if beta_ij < 0.25:\n",
    "        t = 0.25\n",
    "    elif beta_ij > 0.75:\n",
    "        t = 0.75\n",
    "    else: \n",
    "        t = 0.5*beta_ij+0.25\n",
    "    return t"
   ]
  },
  {
   "cell_type": "code",
   "execution_count": 9,
   "id": "89bb5729",
   "metadata": {},
   "outputs": [],
   "source": [
    "# t = -0.4beta_ij+0.5\n",
    "#convert brightness value to t value for star tile\n",
    "def get_t_star(beta_ij):\n",
    "    if beta_ij < 0.25:\n",
    "        t = 0.4\n",
    "    elif beta_ij > 0.75:\n",
    "        t = 0.2\n",
    "    else: \n",
    "        t = -0.4*beta_ij+0.5\n",
    "    return t"
   ]
  },
  {
   "cell_type": "code",
   "execution_count": 10,
   "id": "c41bdaef",
   "metadata": {},
   "outputs": [],
   "source": [
    "def tile_trans(point,**kwargs):\n",
    "    ##apply transformation to tile to move into correct spot in pattern/image\n",
    "    scale = kwargs.get('scale',1)\n",
    "    right_shift = kwargs.get('right_shift',0)\n",
    "    down_shift = kwargs.get('down_shift',0)\n",
    "    updated_point = point\n",
    "    \n",
    "    ####scale points\n",
    "    if scale != 1:\n",
    "        updated_point = tuple([scale*x for x in updated_point])\n",
    "    \n",
    "    ####shift right or down\n",
    "    if right_shift != 0 and down_shift !=0:\n",
    "        updated_point = (updated_point[0] + right_shift, updated_point[1]+down_shift)\n",
    "    elif right_shift != 0:\n",
    "        updated_point = (updated_point[0]+right_shift, updated_point[1])\n",
    "    elif down_shift != 0:\n",
    "        updated_point = (updated_point[0], updated_point[1]+down_shift)\n",
    "        \n",
    "    return updated_point"
   ]
  },
  {
   "cell_type": "markdown",
   "id": "4028f4d6",
   "metadata": {},
   "source": [
    "## Try it Yourself!"
   ]
  },
  {
   "cell_type": "markdown",
   "id": "3b7d4318",
   "metadata": {},
   "source": [
    "#### Adjust Inputs Here"
   ]
  },
  {
   "cell_type": "code",
   "execution_count": 13,
   "id": "31f6dd78",
   "metadata": {},
   "outputs": [],
   "source": [
    "### input the file name for the image you would like to be processed \n",
    "###(note that file must be in the same folder as the jupyter notebook to work)\n",
    "file ='duck.jpg'\n",
    "###adjust scale if your image is too small (cannot be less than 1)\n",
    "scale = 10\n",
    "####indicate which pattern (truchet or star) you would like for your image\n",
    "pattern = 'star'\n",
    "####indicate if you would like to save your masterpiece (True) or not (False)\n",
    "save_image = False"
   ]
  },
  {
   "cell_type": "markdown",
   "id": "512afce9",
   "metadata": {},
   "source": [
    "#### Run the cell below once you are satisifed with your inputs"
   ]
  },
  {
   "cell_type": "code",
   "execution_count": 14,
   "id": "6546a38d",
   "metadata": {},
   "outputs": [],
   "source": [
    "chapter_2(file, scale, pattern,save_image, pixel_size = 5)"
   ]
  },
  {
   "cell_type": "code",
   "execution_count": null,
   "id": "e772db1c",
   "metadata": {},
   "outputs": [],
   "source": []
  }
 ],
 "metadata": {
  "kernelspec": {
   "display_name": "Python 3 (ipykernel)",
   "language": "python",
   "name": "python3"
  },
  "language_info": {
   "codemirror_mode": {
    "name": "ipython",
    "version": 3
   },
   "file_extension": ".py",
   "mimetype": "text/x-python",
   "name": "python",
   "nbconvert_exporter": "python",
   "pygments_lexer": "ipython3",
   "version": "3.9.12"
  }
 },
 "nbformat": 4,
 "nbformat_minor": 5
}
